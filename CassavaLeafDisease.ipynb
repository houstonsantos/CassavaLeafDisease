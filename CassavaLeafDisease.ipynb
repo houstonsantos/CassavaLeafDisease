{
 "cells": [
  {
   "cell_type": "code",
   "execution_count": 1,
   "metadata": {},
   "outputs": [],
   "source": [
    "import os\n",
    "import time\n",
    "import h5py\n",
    "import json\n",
    "import keras\n",
    "import numpy as np\n",
    "import pandas as pd\n",
    "import seaborn as sb\n",
    "import tensorflow as tf\n",
    "import matplotlib.pyplot as plt\n",
    "#import matplotlib.image as mpimg\n",
    "from PIL import Image\n",
    "from keras.optimizers import Adam\n",
    "from keras.utils import plot_model\n",
    "from matplotlib.image import imread\n",
    "from keras.preprocessing import image\n",
    "from mixup_generator import MixupGenerator\n",
    "from random_eraser import get_random_eraser \n",
    "from keras.models import Sequential, load_model\n",
    "from keras.losses import CategoricalCrossentropy\n",
    "from sklearn.model_selection import train_test_split\n",
    "from keras.preprocessing.image import ImageDataGenerator\n",
    "from keras.callbacks import EarlyStopping, ModelCheckpoint, ReduceLROnPlateau\n",
    "from tensorflow.keras.applications import EfficientNetB3, EfficientNetB4, EfficientNetB7\n",
    "from keras.layers import GlobalAveragePooling2D, Flatten, Dense, Dropout, BatchNormalization"
   ]
  },
  {
   "cell_type": "markdown",
   "metadata": {},
   "source": [
    "# Dados\n",
    "## Explorando dados"
   ]
  },
  {
   "cell_type": "code",
   "execution_count": 2,
   "metadata": {},
   "outputs": [
    {
     "output_type": "execute_result",
     "data": {
      "text/plain": [
       "         image_id  label\n",
       "0  1000015157.jpg      0\n",
       "1  1000201771.jpg      3\n",
       "2   100042118.jpg      1\n",
       "3  1000723321.jpg      1\n",
       "4  1000812911.jpg      3"
      ],
      "text/html": "<div>\n<style scoped>\n    .dataframe tbody tr th:only-of-type {\n        vertical-align: middle;\n    }\n\n    .dataframe tbody tr th {\n        vertical-align: top;\n    }\n\n    .dataframe thead th {\n        text-align: right;\n    }\n</style>\n<table border=\"1\" class=\"dataframe\">\n  <thead>\n    <tr style=\"text-align: right;\">\n      <th></th>\n      <th>image_id</th>\n      <th>label</th>\n    </tr>\n  </thead>\n  <tbody>\n    <tr>\n      <th>0</th>\n      <td>1000015157.jpg</td>\n      <td>0</td>\n    </tr>\n    <tr>\n      <th>1</th>\n      <td>1000201771.jpg</td>\n      <td>3</td>\n    </tr>\n    <tr>\n      <th>2</th>\n      <td>100042118.jpg</td>\n      <td>1</td>\n    </tr>\n    <tr>\n      <th>3</th>\n      <td>1000723321.jpg</td>\n      <td>1</td>\n    </tr>\n    <tr>\n      <th>4</th>\n      <td>1000812911.jpg</td>\n      <td>3</td>\n    </tr>\n  </tbody>\n</table>\n</div>"
     },
     "metadata": {},
     "execution_count": 2
    }
   ],
   "source": [
    "# Importando csv do dataset\n",
    "data = pd.read_csv('dados/train.csv', sep = ',')\n",
    "data.head()"
   ]
  },
  {
   "cell_type": "code",
   "execution_count": 3,
   "metadata": {},
   "outputs": [
    {
     "output_type": "execute_result",
     "data": {
      "text/plain": [
       "{0: 'Cassava Bacterial Blight (CBB)',\n",
       " 1: 'Cassava Brown Streak Disease (CBSD)',\n",
       " 2: 'Cassava Green Mottle (CGM)',\n",
       " 3: 'Cassava Mosaic Disease (CMD)',\n",
       " 4: 'Healthy'}"
      ]
     },
     "metadata": {},
     "execution_count": 3
    }
   ],
   "source": [
    "# Lendo json e crinado mapping para para classe\n",
    "with open('dados/label_num_to_disease_map.json') as f:\n",
    "    mapping = json.loads(f.read())\n",
    "    mapping = {int(k): v for k, v in mapping.items()}\n",
    "\n",
    "mapping"
   ]
  },
  {
   "cell_type": "code",
   "execution_count": 4,
   "metadata": {},
   "outputs": [],
   "source": [
    "# Adicionando label_name ao conjunto de dados, e ondenando colunas\n",
    "data['label_name'] = data['label'].map(mapping)\n",
    "data = data[['image_id', 'label_name', 'label']]"
   ]
  },
  {
   "cell_type": "code",
   "execution_count": 5,
   "metadata": {},
   "outputs": [
    {
     "output_type": "execute_result",
     "data": {
      "text/plain": [
       "         image_id                           label_name  label\n",
       "0  1000015157.jpg       Cassava Bacterial Blight (CBB)      0\n",
       "1  1000201771.jpg         Cassava Mosaic Disease (CMD)      3\n",
       "2   100042118.jpg  Cassava Brown Streak Disease (CBSD)      1\n",
       "3  1000723321.jpg  Cassava Brown Streak Disease (CBSD)      1\n",
       "4  1000812911.jpg         Cassava Mosaic Disease (CMD)      3"
      ],
      "text/html": "<div>\n<style scoped>\n    .dataframe tbody tr th:only-of-type {\n        vertical-align: middle;\n    }\n\n    .dataframe tbody tr th {\n        vertical-align: top;\n    }\n\n    .dataframe thead th {\n        text-align: right;\n    }\n</style>\n<table border=\"1\" class=\"dataframe\">\n  <thead>\n    <tr style=\"text-align: right;\">\n      <th></th>\n      <th>image_id</th>\n      <th>label_name</th>\n      <th>label</th>\n    </tr>\n  </thead>\n  <tbody>\n    <tr>\n      <th>0</th>\n      <td>1000015157.jpg</td>\n      <td>Cassava Bacterial Blight (CBB)</td>\n      <td>0</td>\n    </tr>\n    <tr>\n      <th>1</th>\n      <td>1000201771.jpg</td>\n      <td>Cassava Mosaic Disease (CMD)</td>\n      <td>3</td>\n    </tr>\n    <tr>\n      <th>2</th>\n      <td>100042118.jpg</td>\n      <td>Cassava Brown Streak Disease (CBSD)</td>\n      <td>1</td>\n    </tr>\n    <tr>\n      <th>3</th>\n      <td>1000723321.jpg</td>\n      <td>Cassava Brown Streak Disease (CBSD)</td>\n      <td>1</td>\n    </tr>\n    <tr>\n      <th>4</th>\n      <td>1000812911.jpg</td>\n      <td>Cassava Mosaic Disease (CMD)</td>\n      <td>3</td>\n    </tr>\n  </tbody>\n</table>\n</div>"
     },
     "metadata": {},
     "execution_count": 5
    }
   ],
   "source": [
    "data.head()"
   ]
  },
  {
   "cell_type": "code",
   "execution_count": 6,
   "metadata": {},
   "outputs": [
    {
     "output_type": "execute_result",
     "data": {
      "text/plain": [
       "Cassava Mosaic Disease (CMD)           13158\n",
       "Healthy                                 2577\n",
       "Cassava Green Mottle (CGM)              2386\n",
       "Cassava Brown Streak Disease (CBSD)     2189\n",
       "Cassava Bacterial Blight (CBB)          1087\n",
       "Name: label_name, dtype: int64"
      ]
     },
     "metadata": {},
     "execution_count": 6
    }
   ],
   "source": [
    "# Verificando frequencia\n",
    "data.label_name.value_counts()"
   ]
  },
  {
   "cell_type": "code",
   "execution_count": 7,
   "metadata": {},
   "outputs": [
    {
     "output_type": "execute_result",
     "data": {
      "text/plain": [
       "Cassava Mosaic Disease (CMD)           61.494602\n",
       "Healthy                                12.043744\n",
       "Cassava Green Mottle (CGM)             11.151096\n",
       "Cassava Brown Streak Disease (CBSD)    10.230406\n",
       "Cassava Bacterial Blight (CBB)          5.080151\n",
       "Name: label_name, dtype: float64"
      ]
     },
     "metadata": {},
     "execution_count": 7
    }
   ],
   "source": [
    "# Verificando proporção \n",
    "data.label_name.value_counts(normalize = True) * 100"
   ]
  },
  {
   "cell_type": "markdown",
   "metadata": {},
   "source": [
    "# Preparando os dados"
   ]
  },
  {
   "cell_type": "markdown",
   "metadata": {},
   "source": [
    "## HoldOut\n",
    "Separando dados de treino e teste"
   ]
  },
  {
   "cell_type": "code",
   "execution_count": 5,
   "metadata": {},
   "outputs": [],
   "source": [
    "# Definindo paths de treino e teste\n",
    "TRAIN_PATH = 'dados/train_images/'\n",
    "TEST_PATH = 'dados/test_images/'\n",
    "IMAGE_TEST = 'dados/test_images/2216849948.jpg'"
   ]
  },
  {
   "cell_type": "code",
   "execution_count": 6,
   "metadata": {},
   "outputs": [],
   "source": [
    "# Criando amostra para treino e teste estrafiticada\n",
    "train, test = train_test_split(data, test_size = 0.10, shuffle = True, random_state = 0, stratify = data['label_name'])"
   ]
  },
  {
   "cell_type": "code",
   "execution_count": 10,
   "metadata": {},
   "outputs": [
    {
     "output_type": "execute_result",
     "data": {
      "text/plain": [
       "Cassava Mosaic Disease (CMD)           11842\n",
       "Healthy                                 2319\n",
       "Cassava Green Mottle (CGM)              2148\n",
       "Cassava Brown Streak Disease (CBSD)     1970\n",
       "Cassava Bacterial Blight (CBB)           978\n",
       "Name: label_name, dtype: int64"
      ]
     },
     "metadata": {},
     "execution_count": 10
    }
   ],
   "source": [
    "# Verificando frequencia do conjunto de trian\n",
    "train.label_name.value_counts()"
   ]
  },
  {
   "cell_type": "code",
   "execution_count": 11,
   "metadata": {},
   "outputs": [
    {
     "output_type": "execute_result",
     "data": {
      "text/plain": [
       "Cassava Mosaic Disease (CMD)           1316\n",
       "Healthy                                 258\n",
       "Cassava Green Mottle (CGM)              238\n",
       "Cassava Brown Streak Disease (CBSD)     219\n",
       "Cassava Bacterial Blight (CBB)          109\n",
       "Name: label_name, dtype: int64"
      ]
     },
     "metadata": {},
     "execution_count": 11
    }
   ],
   "source": [
    "# Verificando frequencia do conjunto de test\n",
    "test.label_name.value_counts()"
   ]
  },
  {
   "cell_type": "code",
   "execution_count": 13,
   "metadata": {},
   "outputs": [
    {
     "output_type": "execute_result",
     "data": {
      "text/plain": [
       "             image_id                           label_name  label\n",
       "10866  2937152803.jpg         Cassava Mosaic Disease (CMD)      3\n",
       "11253  3009725992.jpg         Cassava Mosaic Disease (CMD)      3\n",
       "5623   1999385559.jpg         Cassava Mosaic Disease (CMD)      3\n",
       "14958  3687069352.jpg  Cassava Brown Streak Disease (CBSD)      1\n",
       "20700   858590964.jpg         Cassava Mosaic Disease (CMD)      3"
      ],
      "text/html": "<div>\n<style scoped>\n    .dataframe tbody tr th:only-of-type {\n        vertical-align: middle;\n    }\n\n    .dataframe tbody tr th {\n        vertical-align: top;\n    }\n\n    .dataframe thead th {\n        text-align: right;\n    }\n</style>\n<table border=\"1\" class=\"dataframe\">\n  <thead>\n    <tr style=\"text-align: right;\">\n      <th></th>\n      <th>image_id</th>\n      <th>label_name</th>\n      <th>label</th>\n    </tr>\n  </thead>\n  <tbody>\n    <tr>\n      <th>10866</th>\n      <td>2937152803.jpg</td>\n      <td>Cassava Mosaic Disease (CMD)</td>\n      <td>3</td>\n    </tr>\n    <tr>\n      <th>11253</th>\n      <td>3009725992.jpg</td>\n      <td>Cassava Mosaic Disease (CMD)</td>\n      <td>3</td>\n    </tr>\n    <tr>\n      <th>5623</th>\n      <td>1999385559.jpg</td>\n      <td>Cassava Mosaic Disease (CMD)</td>\n      <td>3</td>\n    </tr>\n    <tr>\n      <th>14958</th>\n      <td>3687069352.jpg</td>\n      <td>Cassava Brown Streak Disease (CBSD)</td>\n      <td>1</td>\n    </tr>\n    <tr>\n      <th>20700</th>\n      <td>858590964.jpg</td>\n      <td>Cassava Mosaic Disease (CMD)</td>\n      <td>3</td>\n    </tr>\n  </tbody>\n</table>\n</div>"
     },
     "metadata": {},
     "execution_count": 13
    }
   ],
   "source": [
    "train.head()"
   ]
  },
  {
   "cell_type": "code",
   "execution_count": 14,
   "metadata": {},
   "outputs": [
    {
     "output_type": "execute_result",
     "data": {
      "text/plain": [
       "             image_id                    label_name  label\n",
       "14906  3674975223.jpg  Cassava Mosaic Disease (CMD)      3\n",
       "3794   1674922822.jpg  Cassava Mosaic Disease (CMD)      3\n",
       "19818   698931163.jpg  Cassava Mosaic Disease (CMD)      3\n",
       "16499  3966311153.jpg  Cassava Mosaic Disease (CMD)      3\n",
       "14827  3658819051.jpg  Cassava Mosaic Disease (CMD)      3"
      ],
      "text/html": "<div>\n<style scoped>\n    .dataframe tbody tr th:only-of-type {\n        vertical-align: middle;\n    }\n\n    .dataframe tbody tr th {\n        vertical-align: top;\n    }\n\n    .dataframe thead th {\n        text-align: right;\n    }\n</style>\n<table border=\"1\" class=\"dataframe\">\n  <thead>\n    <tr style=\"text-align: right;\">\n      <th></th>\n      <th>image_id</th>\n      <th>label_name</th>\n      <th>label</th>\n    </tr>\n  </thead>\n  <tbody>\n    <tr>\n      <th>14906</th>\n      <td>3674975223.jpg</td>\n      <td>Cassava Mosaic Disease (CMD)</td>\n      <td>3</td>\n    </tr>\n    <tr>\n      <th>3794</th>\n      <td>1674922822.jpg</td>\n      <td>Cassava Mosaic Disease (CMD)</td>\n      <td>3</td>\n    </tr>\n    <tr>\n      <th>19818</th>\n      <td>698931163.jpg</td>\n      <td>Cassava Mosaic Disease (CMD)</td>\n      <td>3</td>\n    </tr>\n    <tr>\n      <th>16499</th>\n      <td>3966311153.jpg</td>\n      <td>Cassava Mosaic Disease (CMD)</td>\n      <td>3</td>\n    </tr>\n    <tr>\n      <th>14827</th>\n      <td>3658819051.jpg</td>\n      <td>Cassava Mosaic Disease (CMD)</td>\n      <td>3</td>\n    </tr>\n  </tbody>\n</table>\n</div>"
     },
     "metadata": {},
     "execution_count": 14
    }
   ],
   "source": [
    "test.head()"
   ]
  },
  {
   "cell_type": "code",
   "execution_count": 7,
   "metadata": {},
   "outputs": [],
   "source": [
    "mixup_x_train = []\n",
    "mixup_y_train = train.label.values\n",
    "mixup_y_train = keras.utils.to_categorical(mixup_y_train, 5)\n",
    "\n",
    "def image_mixup_train (x):\n",
    "    img = image.load_img(TRAIN_PATH + x, target_size = (456, 456))\n",
    "    img = image.img_to_array(img)\n",
    "    mixup_x_train.append(img)\n",
    "\n",
    "\n",
    "mixup_x_test = []\n",
    "mixup_y_test = test.label.values\n",
    "mixup_y_test = keras.utils.to_categorical(mixup_y_test, 5)\n",
    "\n",
    "def image_mixup_test (x):\n",
    "    img = image.load_img(TRAIN_PATH + x, target_size = (456, 456))\n",
    "    img = image.img_to_array(img)\n",
    "    mixup_x_test.append(img)"
   ]
  },
  {
   "cell_type": "code",
   "execution_count": 8,
   "metadata": {},
   "outputs": [
    {
     "output_type": "execute_result",
     "data": {
      "text/plain": [
       "14906    None\n",
       "3794     None\n",
       "19818    None\n",
       "16499    None\n",
       "14827    None\n",
       "         ... \n",
       "5886     None\n",
       "6045     None\n",
       "5052     None\n",
       "1156     None\n",
       "10114    None\n",
       "Name: image_id, Length: 2140, dtype: object"
      ]
     },
     "metadata": {},
     "execution_count": 8
    }
   ],
   "source": [
    "test['image_id'].map(image_mixup_test)"
   ]
  },
  {
   "cell_type": "code",
   "execution_count": 9,
   "metadata": {},
   "outputs": [],
   "source": [
    "with h5py.File('dados/mixup_test.h5', 'w') as hf:\n",
    "    hf.create_dataset('mixup_x_test', dtype = 'uint8', data = mixup_x_test)\n",
    "    hf.create_dataset('mixup_y_test', dtype = 'uint8', data = mixup_y_test)"
   ]
  },
  {
   "cell_type": "code",
   "execution_count": 14,
   "metadata": {},
   "outputs": [],
   "source": [
    "train['image_id'].map(image_mixup_train)"
   ]
  },
  {
   "cell_type": "code",
   "execution_count": null,
   "metadata": {},
   "outputs": [],
   "source": [
    "with h5py.File('dados/mixup_train.h5', 'w') as hf:\n",
    "    hf.create_dataset('mixup_x_train', dtype = 'uint8', data = mixup_x_train)\n",
    "    hf.create_dataset('mixup_y_train', dtype = 'uint8', data = mixup_y_train)"
   ]
  },
  {
   "cell_type": "markdown",
   "metadata": {},
   "source": [
    "## Tratamento das imagens\n",
    "Nossas imagens não estão no formato adequado para usarmos em uma rede neural, usaremos a classe **ImageDataGenerator** com o method **flow_from_dataframe** do keras. Ele irar percorrer nosso cvs e diretório de dados, carregando os dados de imagem e retornar a entrada (matrizes de pixels) e a saída (número inteiro de classe)."
   ]
  },
  {
   "cell_type": "markdown",
   "metadata": {},
   "source": [
    "## Data Augumentation\n",
    "\n",
    "É uma técnica para gerar novos exemplares de dados de treinamento a fim de aumentar a generalidade do modelo. Técnicas de aumento de dados, como corte, preenchimento, redimensionamento e rotação, são comumente usadas para treinar grandes redes neurais.\n",
    "\n",
    "A ideia de manipular imagens decorre de uma premissa básica das atividades que envolvem Deep Learning e a Aprendizagem de Máquina, que é a representatividade da amostra de dados utilizada para Treinar um modelo. Quanto maior for a amostra e mais representativos forem os dados utilizados na etapa de treinamento, melhor será o desempenho do modelo ao classificar novos dados. Assim, ao rotacionar as imagens e redimensiona-las, aumentamos nosso espaço amostral gerando uma maior variabilidade de dados, fazendo com que nosso modelo aprenda características apresentadas sob outra \"forma\"."
   ]
  },
  {
   "cell_type": "markdown",
   "metadata": {},
   "source": [
    "### Definindo parâmetros para tratamnetos das imagens\n",
    "Abaixo estamos aumentando nossos dados ao gerar novas imagens a partir das imagens já existentes. Cada parâmetro passado a nossa classe **ImageDataGenerator** altera características das imagens existentes, como zoom, largura, rotação, escala e etc. Um exemplo pode ser visto nas imagens abaixo."
   ]
  },
  {
   "cell_type": "code",
   "execution_count": 12,
   "metadata": {},
   "outputs": [],
   "source": [
    "train_generator = ImageDataGenerator(\n",
    "    preprocessing_function = tf.keras.applications.efficientnet.preprocess_input,\n",
    "    #preprocessing_function = get_random_eraser(v_l = 0, v_h = 255),\n",
    "    rotation_range = 40,\n",
    "    width_shift_range = 0.2,\n",
    "    height_shift_range = 0.2,\n",
    "    shear_range = 0.2,\n",
    "    zoom_range = 0.2,\n",
    "    horizontal_flip = True,\n",
    "    vertical_flip = True,\n",
    "    fill_mode = 'nearest',\n",
    "    #rescale = 1/225\n",
    ")\n",
    "\n",
    "test_generator = ImageDataGenerator(\n",
    "    preprocessing_function = tf.keras.applications.efficientnet.preprocess_input\n",
    ")"
   ]
  },
  {
   "cell_type": "code",
   "execution_count": null,
   "metadata": {},
   "outputs": [],
   "source": [
    "# Plotando imagens com aumento usando ImageDataGenerator do keras\n",
    "image_list = os.listdir(TRAIN_PATH)\n",
    "count = 0\n",
    "\n",
    "plt.figure(figsize = (20, 10))\n",
    "for i in image_list:\n",
    "    img = imread(TRAIN_PATH + i)\n",
    "    plt.subplot(2, 3, count + 1)\n",
    "    plt.suptitle(\"Data Augumentation\", fontsize = 30)\n",
    "    plt.imshow(train_generator.random_transform(img))\n",
    "    plt.title(f\"{i} \\n {data.loc[data.image_id == i, 'label_name'].values}\")\n",
    "    plt.axis('off')\n",
    "    count += 1\n",
    "    if(count == 6):\n",
    "        break"
   ]
  },
  {
   "cell_type": "code",
   "execution_count": null,
   "metadata": {},
   "outputs": [],
   "source": [
    "train_set = train_generator.flow_from_dataframe(\n",
    "    dataframe = train,\n",
    "    directory = TRAIN_PATH,\n",
    "    seed = 42,\n",
    "    x_col = 'image_id',\n",
    "    y_col = 'label_name',\n",
    "    target_size = (456, 456),\n",
    "    class_mode = 'categorical',\n",
    "    interpolation = 'nearest',\n",
    "    shuffle = True,\n",
    "    batch_size = 15\n",
    ")\n",
    "\n",
    "test_set = test_generator.flow_from_dataframe(\n",
    "    dataframe = test,\n",
    "    directory= TRAIN_PATH,\n",
    "    seed = 42,\n",
    "    x_col = 'image_id',\n",
    "    y_col = 'label_name',\n",
    "    target_size = (456, 456),\n",
    "    class_mode = 'categorical',\n",
    "    interpolation = 'nearest',\n",
    "    shuffle = True,\n",
    "    batch_size = 15\n",
    ")"
   ]
  },
  {
   "cell_type": "markdown",
   "metadata": {},
   "source": [
    "## MixUp"
   ]
  },
  {
   "cell_type": "code",
   "execution_count": null,
   "metadata": {},
   "outputs": [],
   "source": [
    "#\n",
    "mixup_gen = MixupGenerator(mixup_x_train, mixup_y_train, datagen = train_generator, alpha = 0.5)()\n",
    "x, y = next(mixup_gen)\n",
    "\n",
    "plt.figure(figsize = (20, 10))\n",
    "for i in range(6):\n",
    "    plt.subplot(2, 3, i + 1)\n",
    "    plt.imshow(x[i].astype(np.uint8), interpolation = \"nearest\")\n",
    "    plt.axis('off')"
   ]
  },
  {
   "cell_type": "markdown",
   "metadata": {},
   "source": [
    "# Modelos"
   ]
  },
  {
   "source": [
    "## Trabalhando hiperparâmetros da rede neural"
   ],
   "cell_type": "markdown",
   "metadata": {}
  },
  {
   "cell_type": "code",
   "execution_count": null,
   "metadata": {},
   "outputs": [],
   "source": [
    "# Definindo loss function\n",
    "loss = CategoricalCrossentropy(from_logits = False, label_smoothing = 0.0001, name = 'categorical_crossentropy')\n",
    "# Pare de treinar quando o val_loss parar de diminuir por 3 épocas\n",
    "es = EarlyStopping(monitor = 'val_loss', patience = 3, verbose = 1, mode = 'min', restore_best_weights = True)\n",
    "# Salve o modelo com o mínimo de perda de validação\n",
    "checkpoint = ModelCheckpoint(\"CassavaLeafDisease.h5\", monitor = 'val_loss', save_best_only = True, mode = 'min')\n",
    "# Reduza a taxa de aprendizagem quando a aprendizagem estagnar\n",
    "reduce_lr = ReduceLROnPlateau(monitor = 'val_loss', factor = 0.2, patience = 2, min_lr = 1e-6, mode = 'min', verbose = 1)"
   ]
  },
  {
   "cell_type": "markdown",
   "metadata": {},
   "source": [
    "## EfficientNetB3"
   ]
  },
  {
   "cell_type": "code",
   "execution_count": null,
   "metadata": {},
   "outputs": [],
   "source": [
    "# Criando modelo de rede neural\n",
    "modelo = Sequential()\n",
    "modelo.add(EfficientNetB3(input_shape = (456, 456, 3), include_top = False, weights = 'imagenet', drop_connect_rate = 0.6))\n",
    "modelo.add(GlobalAveragePooling2D())\n",
    "modelo.add(Flatten())\n",
    "modelo.add(Dense(256, activation = 'relu', bias_regularizer = tf.keras.regularizers.L1L2(l1 = 0.01, l2 = 0.001)))\n",
    "modelo.add(Dropout(0.5))\n",
    "modelo.add(Dense(5, activation = 'softmax'))"
   ]
  },
  {
   "cell_type": "code",
   "execution_count": null,
   "metadata": {
    "tags": []
   },
   "outputs": [],
   "source": [
    "# Bloqueando pesos da EfficientNetB3\n",
    "modelo.layers[0].trainable = True\n",
    "set_trainable = False\n",
    "\n",
    "# Desbloqueando pesos da layer block1a_se_excite em diante\n",
    "for layer in modelo.layers[0].layers:\n",
    "    if layer.name == 'block1a_se_excite':\n",
    "        set_trainable = True\n",
    "    if set_trainable:\n",
    "        layer.trainable = True\n",
    "    else:\n",
    "        layer.trainable = False"
   ]
  },
  {
   "cell_type": "code",
   "execution_count": null,
   "metadata": {},
   "outputs": [],
   "source": [
    "# Compilando rede neural\n",
    "modelo.compile(optimizer = Adam(lr = 0.001, decay = 0.0001, clipvalue = 0.5), loss = loss, metrics = ['categorical_accuracy'])"
   ]
  },
  {
   "cell_type": "code",
   "execution_count": null,
   "metadata": {
    "tags": [
     "outputPrepend"
    ]
   },
   "outputs": [],
   "source": [
    "# Informações de parâmetros do modelo EfficientNetB3\n",
    "modelo.layers[0].summary()"
   ]
  },
  {
   "cell_type": "code",
   "execution_count": null,
   "metadata": {},
   "outputs": [],
   "source": [
    "# Informações de parâmetros do modelo \n",
    "modelo.summary()"
   ]
  },
  {
   "cell_type": "code",
   "execution_count": null,
   "metadata": {},
   "outputs": [],
   "source": [
    "# Plotando fluxograma do modelo EfficientNetB3\n",
    "plot_model(modelo.layers[0], to_file = 'img/efficientnetb3.png',  show_shapes = True)"
   ]
  },
  {
   "cell_type": "code",
   "execution_count": null,
   "metadata": {},
   "outputs": [],
   "source": [
    "# Plotando fluxograma do modelo\n",
    "plot_model(modelo, to_file = 'img/modelo.png',  show_shapes = True)"
   ]
  },
  {
   "cell_type": "markdown",
   "metadata": {},
   "source": [
    "## Usando Data Augumentation com ImageDataGenerator"
   ]
  },
  {
   "cell_type": "code",
   "execution_count": null,
   "metadata": {},
   "outputs": [],
   "source": [
    "# Definindo parâmetros para treino e teste\n",
    "STEP_SIZE_TRAIN = train_set.n // train_set.batch_size\n",
    "STEP_SIZE_TEST = test_set.n // test_set.batch_size\n",
    "\n",
    "inicio = time.time()\n",
    "\n",
    "# Treinamento e teste do modelo\n",
    "results = modelo.fit(\n",
    "        train_set, \n",
    "        validation_data = test_set, \n",
    "        epochs = 15, \n",
    "        batch_size = 15, \n",
    "        steps_per_epoch = STEP_SIZE_TRAIN,\n",
    "        validation_steps = STEP_SIZE_TEST, \n",
    "        callbacks = [es, checkpoint, reduce_lr]\n",
    ")\n",
    "\n",
    "print()\n",
    "fim = time.time()\n",
    "print(fim - inicio)\n",
    "\n",
    "# Salvando modelo\n",
    "# modelo.save('CassavaLeafDisease')"
   ]
  },
  {
   "cell_type": "markdown",
   "metadata": {},
   "source": [
    "## Usando Data Augumentation com ImageDataGenerator, MixUp e Random Erasing"
   ]
  },
  {
   "cell_type": "markdown",
   "metadata": {},
   "source": [
    "# Submission"
   ]
  },
  {
   "cell_type": "code",
   "execution_count": null,
   "metadata": {},
   "outputs": [],
   "source": [
    "# Carregando modelo\n",
    "leaf_model = load_model('CassavaLeafDisease.h5')"
   ]
  },
  {
   "cell_type": "code",
   "execution_count": null,
   "metadata": {},
   "outputs": [],
   "source": [
    "# Realizando predição com imagem teste \n",
    "test_images = os.listdir(TEST_PATH)\n",
    "predictions = []\n",
    "\n",
    "for image in test_images:\n",
    "    img = Image.open(TEST_PATH + image)\n",
    "    img = img.resize((456, 456), resample = Image.NEAREST) \n",
    "    img = np.expand_dims(img, axis = 0)\n",
    "    # Realizando a predição, argmax retorna o indice da maior probabilidade da lista\n",
    "    predictions.extend(leaf_model.predict(img).argmax(axis = 1))\n",
    "    predictions"
   ]
  },
  {
   "cell_type": "code",
   "execution_count": null,
   "metadata": {},
   "outputs": [],
   "source": [
    "# Realizando predição com imagem teste \n",
    "test_images = os.listdir(TEST_PATH)\n",
    "predictions = []\n",
    "\n",
    "for image in test_images:\n",
    "    teste4 = image.load_img(TEST_PATH + image, target_size = (456, 456))\n",
    "    teste4 = np.expand_dims(teste4, axis = 0)\n",
    "    # Realizando a predição, argmax retorna o indice da maior probabilidade da lista\n",
    "    predictions.extend(leaf_model.predict(teste4).argmax(axis = 1))\n",
    "    predictions"
   ]
  },
  {
   "cell_type": "code",
   "execution_count": null,
   "metadata": {},
   "outputs": [],
   "source": [
    "# Gerando arquivo submission.csv\n",
    "submission = pd.DataFrame({'image_id': test_images, 'label': predictions})\n",
    "submission.to_csv('submission.csv', index = False)\n",
    "display(submission)"
   ]
  }
 ],
 "metadata": {
  "kernelspec": {
   "name": "python3",
   "display_name": "Python 3.8.2 64-bit ('venv')",
   "metadata": {
    "interpreter": {
     "hash": "843d7b2e0b6cda0e68a3cd4e3491dbdcaa3a0e3914c5fff30c028d4dc36f8b52"
    }
   }
  },
  "language_info": {
   "codemirror_mode": {
    "name": "ipython",
    "version": 3
   },
   "file_extension": ".py",
   "mimetype": "text/x-python",
   "name": "python",
   "nbconvert_exporter": "python",
   "pygments_lexer": "ipython3",
   "version": "3.8.2-final"
  },
  "orig_nbformat": 2
 },
 "nbformat": 4,
 "nbformat_minor": 2
}