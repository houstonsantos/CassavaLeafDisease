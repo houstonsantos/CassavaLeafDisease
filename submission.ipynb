{
 "metadata": {
  "language_info": {
   "codemirror_mode": {
    "name": "ipython",
    "version": 3
   },
   "file_extension": ".py",
   "mimetype": "text/x-python",
   "name": "python",
   "nbconvert_exporter": "python",
   "pygments_lexer": "ipython3",
   "version": 3
  },
  "orig_nbformat": 2
 },
 "nbformat": 4,
 "nbformat_minor": 2,
 "cells": [
  {
   "source": [
    "# Submission"
   ],
   "cell_type": "markdown",
   "metadata": {}
  },
  {
   "cell_type": "code",
   "execution_count": null,
   "metadata": {},
   "outputs": [],
   "source": [
    "# Carregando modelo\n",
    "leaf_model = load_model('CassavaLeafDisease.h5')"
   ]
  },
  {
   "cell_type": "code",
   "execution_count": null,
   "metadata": {},
   "outputs": [],
   "source": [
    "# Realizando predição com imagem teste \n",
    "test_images = os.listdir(TEST_PATH)\n",
    "predictions = []\n",
    "\n",
    "for image in test_images:\n",
    "    img = Image.open(TEST_PATH + image)\n",
    "    img = img.resize((456, 456), resample = Image.NEAREST) \n",
    "    img = np.expand_dims(img, axis = 0)\n",
    "    # Realizando a predição, argmax retorna o indice da maior probabilidade da lista\n",
    "    predictions.extend(leaf_model.predict(img).argmax(axis = 1))\n",
    "    predictions"
   ]
  },
  {
   "cell_type": "code",
   "execution_count": null,
   "metadata": {},
   "outputs": [],
   "source": [
    "# Realizando predição com imagem teste \n",
    "test_images = os.listdir(TEST_PATH)\n",
    "predictions = []\n",
    "\n",
    "for image in test_images:\n",
    "    teste4 = image.load_img(TEST_PATH + image, target_size = (456, 456))\n",
    "    teste4 = np.expand_dims(teste4, axis = 0)\n",
    "    # Realizando a predição, argmax retorna o indice da maior probabilidade da lista\n",
    "    predictions.extend(leaf_model.predict(teste4).argmax(axis = 1))\n",
    "    predictions"
   ]
  },
  {
   "cell_type": "code",
   "execution_count": null,
   "metadata": {},
   "outputs": [],
   "source": [
    "# Gerando arquivo submission.csv\n",
    "submission = pd.DataFrame({'image_id': test_images, 'label': predictions})\n",
    "submission.to_csv('submission.csv', index = False)\n",
    "display(submission)"
   ]
  }
 ]
}